{
 "cells": [
  {
   "cell_type": "code",
   "execution_count": 1,
   "id": "f049b146",
   "metadata": {},
   "outputs": [
    {
     "name": "stdout",
     "output_type": "stream",
     "text": [
      "3.11.8 (main, Feb 26 2024, 21:39:34) [GCC 11.2.0]\n"
     ]
    }
   ],
   "source": [
    "import pandas as pd\n",
    "import sys\n",
    "import os\n",
    "print(sys.version)"
   ]
  },
  {
   "cell_type": "code",
   "execution_count": 2,
   "id": "92d198e2",
   "metadata": {},
   "outputs": [],
   "source": [
    "#os.chdir('/volumes/USR1/siyuan/DCIS_siyuan/scRNA-seq/final_round/integrated/cpdb/102724_mtx_deg_out')\n",
    "os.chdir('/volumes/USR1/siyuan/DCIS_siyuan/scRNA-seq/final_round/integrated/cpdb/102924_mtx_deg_out')"
   ]
  },
  {
   "cell_type": "code",
   "execution_count": 3,
   "id": "b1b5442b",
   "metadata": {},
   "outputs": [
    {
     "data": {
      "text/html": [
       "<table class=\"striped\"><tr><th style=\"text-align:center\">Version</th><th style=\"text-align:center\">Release date</th></tr><td style=\"text-align:center\"><a class=\"teal-text\" href=\"https://github.com/ventolab/cellphonedb-data/releases/tag/v5.0.0\">v5.0.0</a></td><td style=\"text-align:center\">2023-10-31</td></tr><tr><td style=\"text-align:center\"><a class=\"teal-text\" href=\"https://github.com/ventolab/cellphonedb-data/releases/tag/v4.1.0\">v4.1.0</a></td><td style=\"text-align:center\">2023-03-09</td></tr><tr><tr><tr></table>"
      ],
      "text/plain": [
       "<IPython.core.display.HTML object>"
      ]
     },
     "metadata": {},
     "output_type": "display_data"
    }
   ],
   "source": [
    "from IPython.display import HTML, display\n",
    "from cellphonedb.utils import db_releases_utils\n",
    "\n",
    "display(HTML(db_releases_utils.get_remote_database_versions_html()['db_releases_html_table']))"
   ]
  },
  {
   "cell_type": "code",
   "execution_count": 4,
   "id": "5c7dfb21",
   "metadata": {},
   "outputs": [],
   "source": [
    "cpdb_file_path = '/volumes/USR1/siyuan/anaconda3/envs/cpdb/db/v5.0.0/cellphonedb.zip'\n",
    "meta_file_path = '/volumes/USR1/siyuan/DCIS_siyuan/scRNA-seq/final_round/integrated/cpdb/dcis_sc_meta_102724.tsv'\n",
    "counts_file_path = '/volumes/USR1/siyuan/DCIS_siyuan/scRNA-seq/final_round/integrated/cpdb/102724_mtx_deg'\n",
    "degs_file_path = '/volumes/USR1/siyuan/DCIS_siyuan/scRNA-seq/final_round/integrated/filtered/tumor_tme_cell_state_marker_sel_up_1027.tsv'\n",
    "out_path = '/volumes/USR1/siyuan/DCIS_siyuan/scRNA-seq/final_round/integrated/cpdb/102924_mtx_deg_out'"
   ]
  },
  {
   "cell_type": "code",
   "execution_count": 5,
   "id": "eabbe4d0",
   "metadata": {},
   "outputs": [
    {
     "data": {
      "text/html": [
       "<div>\n",
       "<style scoped>\n",
       "    .dataframe tbody tr th:only-of-type {\n",
       "        vertical-align: middle;\n",
       "    }\n",
       "\n",
       "    .dataframe tbody tr th {\n",
       "        vertical-align: top;\n",
       "    }\n",
       "\n",
       "    .dataframe thead th {\n",
       "        text-align: right;\n",
       "    }\n",
       "</style>\n",
       "<table border=\"1\" class=\"dataframe\">\n",
       "  <thead>\n",
       "    <tr style=\"text-align: right;\">\n",
       "      <th></th>\n",
       "      <th>Cell</th>\n",
       "      <th>cell_state</th>\n",
       "    </tr>\n",
       "  </thead>\n",
       "  <tbody>\n",
       "    <tr>\n",
       "      <th>0</th>\n",
       "      <td>AAAGATGTCTGTTGAG-1_2_2</td>\n",
       "      <td>Macro_APOC1</td>\n",
       "    </tr>\n",
       "    <tr>\n",
       "      <th>1</th>\n",
       "      <td>AAAGCAAAGTGTGGCA-1_2_2</td>\n",
       "      <td>Mono_CD14</td>\n",
       "    </tr>\n",
       "    <tr>\n",
       "      <th>2</th>\n",
       "      <td>AAAGCAACATTGAGCT-1_2_2</td>\n",
       "      <td>Basal-major</td>\n",
       "    </tr>\n",
       "  </tbody>\n",
       "</table>\n",
       "</div>"
      ],
      "text/plain": [
       "                     Cell   cell_state\n",
       "0  AAAGATGTCTGTTGAG-1_2_2  Macro_APOC1\n",
       "1  AAAGCAAAGTGTGGCA-1_2_2    Mono_CD14\n",
       "2  AAAGCAACATTGAGCT-1_2_2  Basal-major"
      ]
     },
     "execution_count": 5,
     "metadata": {},
     "output_type": "execute_result"
    }
   ],
   "source": [
    "metadata = pd.read_csv(meta_file_path, sep = '\\t')\n",
    "metadata.head(3)"
   ]
  },
  {
   "cell_type": "code",
   "execution_count": 6,
   "id": "3ecf7f0b",
   "metadata": {},
   "outputs": [
    {
     "name": "stdout",
     "output_type": "stream",
     "text": [
      "[ ][CORE][29/10/24-11:05:25][INFO] [Cluster DEGs Analysis] Threshold:0.1 Precision:3\n",
      "Reading user files...\n",
      "The following user files were loaded successfully:\n",
      "/volumes/USR1/siyuan/DCIS_siyuan/scRNA-seq/final_round/integrated/cpdb/102724_mtx_deg\n",
      "/volumes/USR1/siyuan/DCIS_siyuan/scRNA-seq/final_round/integrated/cpdb/dcis_sc_meta_102724.tsv\n",
      "/volumes/USR1/siyuan/DCIS_siyuan/scRNA-seq/final_round/integrated/filtered/tumor_tme_cell_state_marker_sel_up_1027.tsv\n",
      "[ ][CORE][29/10/24-11:07:19][INFO] Running Real Analysis\n",
      "[ ][CORE][29/10/24-11:07:20][INFO] Running DEGs-based Analysis\n",
      "[ ][CORE][29/10/24-11:07:21][INFO] Building results\n",
      "[ ][CORE][29/10/24-11:07:25][INFO] Scoring interactions: Filtering genes per cell type..\n"
     ]
    },
    {
     "name": "stderr",
     "output_type": "stream",
     "text": [
      "100%|███████████████████████████████████████████| 63/63 [00:00<00:00, 70.04it/s]"
     ]
    },
    {
     "name": "stdout",
     "output_type": "stream",
     "text": [
      "[ ][CORE][29/10/24-11:07:26][INFO] Scoring interactions: Calculating mean expression of each gene per group/cell type..\n"
     ]
    },
    {
     "name": "stderr",
     "output_type": "stream",
     "text": [
      "\n",
      "100%|██████████████████████████████████████████| 63/63 [00:00<00:00, 392.95it/s]\n"
     ]
    },
    {
     "name": "stdout",
     "output_type": "stream",
     "text": [
      "[ ][CORE][29/10/24-11:07:27][INFO] Scoring interactions: Calculating scores for all interactions and cell types..\n"
     ]
    },
    {
     "name": "stderr",
     "output_type": "stream",
     "text": [
      "100%|███████████████████████████████████████| 3969/3969 [14:49<00:00,  4.46it/s]\n"
     ]
    },
    {
     "name": "stdout",
     "output_type": "stream",
     "text": [
      "Saved deconvoluted to /volumes/USR1/siyuan/DCIS_siyuan/scRNA-seq/final_round/integrated/cpdb/102924_mtx_deg_out/degs_analysis_deconvoluted_10_29_2024_112310.txt\n",
      "Saved deconvoluted_percents to /volumes/USR1/siyuan/DCIS_siyuan/scRNA-seq/final_round/integrated/cpdb/102924_mtx_deg_out/degs_analysis_deconvoluted_percents_10_29_2024_112310.txt\n",
      "Saved means to /volumes/USR1/siyuan/DCIS_siyuan/scRNA-seq/final_round/integrated/cpdb/102924_mtx_deg_out/degs_analysis_means_10_29_2024_112310.txt\n",
      "Saved relevant_interactions to /volumes/USR1/siyuan/DCIS_siyuan/scRNA-seq/final_round/integrated/cpdb/102924_mtx_deg_out/degs_analysis_relevant_interactions_10_29_2024_112310.txt\n",
      "Saved significant_means to /volumes/USR1/siyuan/DCIS_siyuan/scRNA-seq/final_round/integrated/cpdb/102924_mtx_deg_out/degs_analysis_significant_means_10_29_2024_112310.txt\n",
      "Saved interaction_scores to /volumes/USR1/siyuan/DCIS_siyuan/scRNA-seq/final_round/integrated/cpdb/102924_mtx_deg_out/degs_analysis_interaction_scores_10_29_2024_112310.txt\n"
     ]
    }
   ],
   "source": [
    "from cellphonedb.src.core.methods import cpdb_degs_analysis_method\n",
    "\n",
    "cpdb_results = cpdb_degs_analysis_method.call(\n",
    "    cpdb_file_path = cpdb_file_path,                            # mandatory: CellphoneDB database zip file.\n",
    "    meta_file_path = meta_file_path,                            # mandatory: tsv file defining barcodes to cell label.\n",
    "    counts_file_path = counts_file_path,                        # mandatory: normalized count matrix - a path to the counts file, or an in-memory AnnData object\n",
    "    degs_file_path = degs_file_path,                            # mandatory: tsv file with DEG to account.\n",
    "    counts_data = 'hgnc_symbol',                                # defines the gene annotation in counts matrix.\n",
    "    score_interactions = True,                                  # optional: whether to score interactions or not. \n",
    "    threshold = 0.1,  #0.25 (10/27);  0.2(10/28)                         # defines the min % of cells expressing a gene for this to be employed in the analysis.\n",
    "    result_precision = 3,                                       # Sets the rounding for the mean values in significan_means.\n",
    "    separator = '|',                                            # Sets the string to employ to separate cells in the results dataframes \"cellA|CellB\".\n",
    "    debug = False,                                              # Saves all intermediate tables emplyed during the analysis in pkl format.\n",
    "    output_path = out_path,                                     # Path to save results\n",
    "    output_suffix = None,                                       # Replaces the timestamp in the output files by a user defined string in the  (default: None)\n",
    "    threads = 10\n",
    "    )"
   ]
  },
  {
   "cell_type": "code",
   "execution_count": 7,
   "id": "95a497c7",
   "metadata": {},
   "outputs": [
    {
     "data": {
      "text/plain": [
       "['deconvoluted',\n",
       " 'deconvoluted_percents',\n",
       " 'means',\n",
       " 'relevant_interactions',\n",
       " 'significant_means',\n",
       " 'CellSign_active_interactions',\n",
       " 'CellSign_active_interactions_deconvoluted',\n",
       " 'interaction_scores']"
      ]
     },
     "execution_count": 7,
     "metadata": {},
     "output_type": "execute_result"
    }
   ],
   "source": [
    "list(cpdb_results.keys())"
   ]
  },
  {
   "cell_type": "code",
   "execution_count": 8,
   "id": "0b4d7c14",
   "metadata": {},
   "outputs": [
    {
     "data": {
      "text/html": [
       "<div>\n",
       "<style scoped>\n",
       "    .dataframe tbody tr th:only-of-type {\n",
       "        vertical-align: middle;\n",
       "    }\n",
       "\n",
       "    .dataframe tbody tr th {\n",
       "        vertical-align: top;\n",
       "    }\n",
       "\n",
       "    .dataframe thead th {\n",
       "        text-align: right;\n",
       "    }\n",
       "</style>\n",
       "<table border=\"1\" class=\"dataframe\">\n",
       "  <thead>\n",
       "    <tr style=\"text-align: right;\">\n",
       "      <th></th>\n",
       "      <th>id_cp_interaction</th>\n",
       "      <th>interacting_pair</th>\n",
       "      <th>partner_a</th>\n",
       "      <th>partner_b</th>\n",
       "      <th>gene_a</th>\n",
       "      <th>gene_b</th>\n",
       "      <th>secreted</th>\n",
       "      <th>receptor_a</th>\n",
       "      <th>receptor_b</th>\n",
       "      <th>annotation_strategy</th>\n",
       "      <th>...</th>\n",
       "      <th>tumor|Vascular_cycling</th>\n",
       "      <th>tumor|Vein</th>\n",
       "      <th>tumor|cDC1</th>\n",
       "      <th>tumor|cDC2</th>\n",
       "      <th>tumor|gdT</th>\n",
       "      <th>tumor|lymphatic</th>\n",
       "      <th>tumor|mregDC</th>\n",
       "      <th>tumor|neutrophil</th>\n",
       "      <th>tumor|pDC</th>\n",
       "      <th>tumor|tumor</th>\n",
       "    </tr>\n",
       "  </thead>\n",
       "  <tbody>\n",
       "    <tr>\n",
       "      <th>2163</th>\n",
       "      <td>CPI-SS0EBDDDF8A</td>\n",
       "      <td>SEMA7A_PLXNC1</td>\n",
       "      <td>simple:O75326</td>\n",
       "      <td>simple:O60486</td>\n",
       "      <td>SEMA7A</td>\n",
       "      <td>PLXNC1</td>\n",
       "      <td>False</td>\n",
       "      <td>False</td>\n",
       "      <td>True</td>\n",
       "      <td>curated</td>\n",
       "      <td>...</td>\n",
       "      <td>NaN</td>\n",
       "      <td>NaN</td>\n",
       "      <td>NaN</td>\n",
       "      <td>NaN</td>\n",
       "      <td>NaN</td>\n",
       "      <td>NaN</td>\n",
       "      <td>NaN</td>\n",
       "      <td>NaN</td>\n",
       "      <td>NaN</td>\n",
       "      <td>NaN</td>\n",
       "    </tr>\n",
       "    <tr>\n",
       "      <th>2853</th>\n",
       "      <td>CPI-SS0D9E45677</td>\n",
       "      <td>CD40LG_CD40</td>\n",
       "      <td>simple:P29965</td>\n",
       "      <td>simple:P25942</td>\n",
       "      <td>CD40LG</td>\n",
       "      <td>CD40</td>\n",
       "      <td>True</td>\n",
       "      <td>False</td>\n",
       "      <td>True</td>\n",
       "      <td>curated</td>\n",
       "      <td>...</td>\n",
       "      <td>NaN</td>\n",
       "      <td>NaN</td>\n",
       "      <td>NaN</td>\n",
       "      <td>NaN</td>\n",
       "      <td>NaN</td>\n",
       "      <td>NaN</td>\n",
       "      <td>NaN</td>\n",
       "      <td>NaN</td>\n",
       "      <td>NaN</td>\n",
       "      <td>NaN</td>\n",
       "    </tr>\n",
       "  </tbody>\n",
       "</table>\n",
       "<p>2 rows × 3983 columns</p>\n",
       "</div>"
      ],
      "text/plain": [
       "     id_cp_interaction interacting_pair      partner_a      partner_b  gene_a  \\\n",
       "2163   CPI-SS0EBDDDF8A    SEMA7A_PLXNC1  simple:O75326  simple:O60486  SEMA7A   \n",
       "2853   CPI-SS0D9E45677      CD40LG_CD40  simple:P29965  simple:P25942  CD40LG   \n",
       "\n",
       "      gene_b  secreted  receptor_a  receptor_b annotation_strategy  ...  \\\n",
       "2163  PLXNC1     False       False        True             curated  ...   \n",
       "2853    CD40      True       False        True             curated  ...   \n",
       "\n",
       "      tumor|Vascular_cycling tumor|Vein tumor|cDC1  tumor|cDC2  tumor|gdT  \\\n",
       "2163                     NaN        NaN        NaN         NaN        NaN   \n",
       "2853                     NaN        NaN        NaN         NaN        NaN   \n",
       "\n",
       "      tumor|lymphatic  tumor|mregDC  tumor|neutrophil  tumor|pDC  tumor|tumor  \n",
       "2163              NaN           NaN               NaN        NaN          NaN  \n",
       "2853              NaN           NaN               NaN        NaN          NaN  \n",
       "\n",
       "[2 rows x 3983 columns]"
      ]
     },
     "execution_count": 8,
     "metadata": {},
     "output_type": "execute_result"
    }
   ],
   "source": [
    "cpdb_results['significant_means'].head(2)"
   ]
  },
  {
   "cell_type": "code",
   "execution_count": null,
   "id": "05b04b24",
   "metadata": {},
   "outputs": [],
   "source": []
  }
 ],
 "metadata": {
  "kernelspec": {
   "display_name": "Python 3 (ipykernel)",
   "language": "python",
   "name": "python3"
  },
  "language_info": {
   "codemirror_mode": {
    "name": "ipython",
    "version": 3
   },
   "file_extension": ".py",
   "mimetype": "text/x-python",
   "name": "python",
   "nbconvert_exporter": "python",
   "pygments_lexer": "ipython3",
   "version": "3.11.8"
  }
 },
 "nbformat": 4,
 "nbformat_minor": 5
}
